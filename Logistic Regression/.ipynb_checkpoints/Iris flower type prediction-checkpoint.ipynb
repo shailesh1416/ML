{
 "cells": [
  {
   "cell_type": "markdown",
   "id": "33e8ffb7",
   "metadata": {},
   "source": [
    "**Use sklearn.dataset iris flower dataset to train your model using logical regression. You  need \n",
    "to figure out accuracy of your model and use that to predict different sample in your dataset. In iris dataset thare are 150 sample containing following feature.\n",
    "\n",
    "1. Seaple length\n",
    "2. Seaple width\n",
    "3. Petal length\n",
    "4. Petal width\n",
    "\n",
    "Using above 4 feature u will classify a flower in one of the following three categories.\n",
    "\n",
    "1. setosa \n",
    "2. versicolour\n",
    "3. Verginica\n"
   ]
  },
  {
   "cell_type": "code",
   "execution_count": 3,
   "id": "cf299bb8",
   "metadata": {},
   "outputs": [],
   "source": [
    "from sklearn import datasets\n",
    "import matplotlib.pyplot as plt\n",
    "import pandas as pd\n"
   ]
  },
  {
   "cell_type": "code",
   "execution_count": 4,
   "id": "3b775937",
   "metadata": {},
   "outputs": [],
   "source": [
    "iris = datasets.load_iris()"
   ]
  },
  {
   "cell_type": "code",
   "execution_count": 7,
   "id": "0a8748a1",
   "metadata": {},
   "outputs": [
    {
     "data": {
      "text/plain": [
       "array([5.1, 3.5, 1.4, 0.2])"
      ]
     },
     "execution_count": 7,
     "metadata": {},
     "output_type": "execute_result"
    }
   ],
   "source": [
    "iris.data[0]"
   ]
  },
  {
   "cell_type": "code",
   "execution_count": null,
   "id": "1f5b021b",
   "metadata": {},
   "outputs": [],
   "source": []
  }
 ],
 "metadata": {
  "kernelspec": {
   "display_name": "Python 3 (ipykernel)",
   "language": "python",
   "name": "python3"
  },
  "language_info": {
   "codemirror_mode": {
    "name": "ipython",
    "version": 3
   },
   "file_extension": ".py",
   "mimetype": "text/x-python",
   "name": "python",
   "nbconvert_exporter": "python",
   "pygments_lexer": "ipython3",
   "version": "3.8.10"
  }
 },
 "nbformat": 4,
 "nbformat_minor": 5
}
